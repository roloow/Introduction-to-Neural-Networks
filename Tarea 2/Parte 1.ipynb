{
 "cells": [
  {
   "cell_type": "markdown",
   "metadata": {
    "collapsed": true
   },
   "source": [
    "# 1 CNNs en CIFAR10\n",
    "\n",
    "En esta sección, experimentaremos con redes convolucionales, conocidas como *CNNs* ó *ConvNets*. Para ello y\n",
    "con el fin de comparar con los resultados obtenidos por redes **FF**, reutilizaremos el dataset *CIFAR10* utilizado\n",
    "en la tarea anterior. Si no dispone ya del dataset en su máquina, por favor siga a las instrucciones de descarga\n",
    "entregadas en la tarea anterior. **Nota**: Para esta actividad es bastante aconsejable entrenar las redes usando\n",
    "una GPU, ya que de otro modo los tiempos de entrenamiento son largos.\n",
    "\n",
    "## Librerías"
   ]
  },
  {
   "cell_type": "code",
   "execution_count": 6,
   "metadata": {},
   "outputs": [
    {
     "name": "stderr",
     "output_type": "stream",
     "text": [
      "Using TensorFlow backend.\n"
     ]
    }
   ],
   "source": [
    "import pickle\n",
    "import numpy as np\n",
    "import os\n",
    "import scipy.misc\n",
    "import keras"
   ]
  },
  {
   "cell_type": "markdown",
   "metadata": {},
   "source": [
    "## A)\n",
    "\n",
    "Se define una función para leer los archivos batches y se utiliza el *encoding* **Latin1** para resolver problemas de lectura *'asci'*. **NOTAR** el uso de la librería *pickle*, dado que en python 3.5 cPickle es reducido a una librería *_pickle* y subutilizada por *pickle*. [StackOverFlow #Issue](https://stackoverflow.com/questions/37132899/installing-cpickle-with-python-3-5)"
   ]
  },
  {
   "cell_type": "code",
   "execution_count": 1,
   "metadata": {
    "collapsed": true
   },
   "outputs": [],
   "source": [
    "def unpickle(file):\n",
    "    fo = open(file, 'rb')\n",
    "    dict = pickle.load(fo, encoding='latin1')\n",
    "    fo.close()\n",
    "    return dict"
   ]
  },
  {
   "cell_type": "markdown",
   "metadata": {},
   "source": [
    "Se procede a continuar la ejecución leyendo los datos y guardandolos en variables."
   ]
  },
  {
   "cell_type": "code",
   "execution_count": 2,
   "metadata": {
    "collapsed": true
   },
   "outputs": [],
   "source": [
    "data1 = unpickle(\"Scripts/Parte1/data_batch_1\")\n",
    "data2 = unpickle(\"Scripts/Parte1/data_batch_2\")\n",
    "data3 = unpickle(\"Scripts/Parte1/data_batch_3\")\n",
    "data4 = unpickle(\"Scripts/Parte1/data_batch_4\")\n",
    "data5 = unpickle(\"Scripts/Parte1/data_batch_5\")\n",
    "test_batck = unpickle(\"Scripts/Parte1/test_batch\")"
   ]
  },
  {
   "cell_type": "markdown",
   "metadata": {},
   "source": [
    "Luego de cargar los diccionarios se procede a generar funciones para crear los conjuntos de entrenamiento y test. Esto se hace creando dos funcionalidades de lectura de archivos."
   ]
  },
  {
   "cell_type": "code",
   "execution_count": 13,
   "metadata": {
    "collapsed": true
   },
   "outputs": [],
   "source": [
    "def load_CIFAR_one(filename):\n",
    "    with open(filename, 'rb') as f:\n",
    "        datadict = pickle.load(f, encoding='latin1')\n",
    "        X = datadict['data']\n",
    "        Y = datadict['labels']\n",
    "        Y = np.array(Y)\n",
    "        return X, Y\n",
    "\n",
    "def load_CIFAR10(PATH):\n",
    "    xs = []\n",
    "    ys = []\n",
    "    for b in range(1,6):\n",
    "        f = os.path.join(PATH, 'data_batch_%d' % (b, ))\n",
    "        X, Y = load_CIFAR_one(f)\n",
    "        xs.append(X)\n",
    "        ys.append(Y)\n",
    "    Xtr = np.concatenate(xs)\n",
    "    Ytr = np.concatenate(ys)\n",
    "    del X, Y\n",
    "    Xte, Yte = load_CIFAR_one(os.path.join(PATH, 'test_batch'))\n",
    "    return Xtr, Ytr, Xte, Yte"
   ]
  },
  {
   "cell_type": "code",
   "execution_count": 16,
   "metadata": {},
   "outputs": [],
   "source": [
    "x_train, y_train, x_test, y_test = load_CIFAR10('Scripts/Parte1/')\n",
    "\n",
    "x_train = x_train.reshape((x_train.shape[0],32,32,3))\n",
    "x_train = x_train.transpose([0, 2, 3, 1])\n",
    "x_test= x_test.reshape((x_test.shape[0],32,32,3))\n",
    "x_test= x_test.transpose([0, 2, 3, 1])\n",
    "\n",
    "num_classes = 10\n",
    "\n",
    "y_train = keras.utils.to_categorical(y_train, num_classes)\n",
    "y_test = keras.utils.to_categorical(y_test, num_classes)"
   ]
  },
  {
   "cell_type": "code",
   "execution_count": null,
   "metadata": {
    "collapsed": true
   },
   "outputs": [],
   "source": []
  }
 ],
 "metadata": {
  "kernelspec": {
   "display_name": "Python 3",
   "language": "python",
   "name": "python3"
  },
  "language_info": {
   "codemirror_mode": {
    "name": "ipython",
    "version": 3
   },
   "file_extension": ".py",
   "mimetype": "text/x-python",
   "name": "python",
   "nbconvert_exporter": "python",
   "pygments_lexer": "ipython3",
   "version": "3.5.3"
  }
 },
 "nbformat": 4,
 "nbformat_minor": 2
}
