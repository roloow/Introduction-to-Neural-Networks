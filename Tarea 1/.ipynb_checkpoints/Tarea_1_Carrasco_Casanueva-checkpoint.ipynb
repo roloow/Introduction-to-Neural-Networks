{
 "cells": [
  {
   "cell_type": "markdown",
   "metadata": {},
   "source": [
    "<center><h1>Introducción a Redes Neuronales Artificiales</h1></center>\n",
    "<center><h2>Tarea 1 - Perceptrones Multicapa o Redes Feed-Forward</h2></center>\n",
    "\n",
    "\n",
    "|Integrante|Rol|Correo|\n",
    "|:-|:-|:-|\n",
    "|Ricardo Carrasco|201204510-k|<ricardo.carrasco.12@sansano.usm.cl>|\n",
    "|Rolando Casanueva|201204505-3|<rolando.casanueva.12@sansano.usm.cl>|\n",
    "\n",
    "\n",
    "Los desarrollos se encuentran realizados de manera individual en cada archivo con el nombre respectivo a la sección correspondiente.\n",
    "\n"
   ]
  }
 ],
 "metadata": {
  "kernelspec": {
   "display_name": "Python 2",
   "language": "python",
   "name": "python2"
  },
  "language_info": {
   "codemirror_mode": {
    "name": "ipython",
    "version": 2
   },
   "file_extension": ".py",
   "mimetype": "text/x-python",
   "name": "python",
   "nbconvert_exporter": "python",
   "pygments_lexer": "ipython2",
   "version": "2.7.13"
  }
 },
 "nbformat": 4,
 "nbformat_minor": 2
}
