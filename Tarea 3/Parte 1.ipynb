{
 "cells": [
  {
   "cell_type": "markdown",
   "metadata": {},
   "source": [
    "# Análisis de sentimientos usando RNN\n",
    "\n",
    "Hoy en día, una aplicación relevante de las redes neuronales recurrentes es el modelamiento de texto y lenguaje natural. En esta sección abordaremos el problema de procesar el texto contenido en comentarios u opiniones (*review*) sobre una película para determinar su polaridad, es decir, determinar si reﬂeja un sentiemiento positivo o negativo. Usaremos el *Large Movie Review Dataset*, también conocido como *IMDB dataset* que contiene **50000 comentarios** de películas etiquetadas como buenas o malas (50%-50% train-testing).\n",
    "\n",
    "------------------\n",
    "\n",
    "## Librerias\n"
   ]
  },
  {
   "cell_type": "code",
   "execution_count": 8,
   "metadata": {
    "scrolled": true
   },
   "outputs": [],
   "source": [
    "import keras\n",
    "import numpy as np\n",
    "\n",
    "from keras.datasets import imdb\n",
    "from keras.preprocessing import sequence\n",
    "from matplotlib import pyplot as plt"
   ]
  },
  {
   "cell_type": "markdown",
   "metadata": {},
   "source": [
    "----------------------\n",
    "\n",
    "### Carga de Datos\n",
    "\n",
    "Se utiliza la base de datos de imdb, la cual mediante la funcion *load_data* produce conjuntos separados por tuplas.\n"
   ]
  },
  {
   "cell_type": "code",
   "execution_count": 3,
   "metadata": {
    "collapsed": true
   },
   "outputs": [],
   "source": [
    "np.random.seed(3)\n",
    "(X_train, y_train), (X_test, y_test) = imdb.load_data(path=\"B:\\Programas\\Google Drive\\USM\\Redes Neuronales\\Tarea 3\\datasets\\imdb.npz\",seed=15)"
   ]
  },
  {
   "cell_type": "markdown",
   "metadata": {
    "collapsed": true
   },
   "source": [
    "-------------\n",
    "### Estudio de distribución\n"
   ]
  },
  {
   "cell_type": "code",
   "execution_count": 4,
   "metadata": {
    "collapsed": true
   },
   "outputs": [],
   "source": [
    "X = np.concatenate((X_train, X_test), axis=0)\n",
    "y = np.concatenate((y_train, y_test), axis=0)"
   ]
  },
  {
   "cell_type": "markdown",
   "metadata": {},
   "source": [
    "Ahora que tenemos los datos cargados y listos para ser analizados, veremos su forma, la cantidad de clases que tiene, el número de palabras. De aquí esperamos que el contenido sea de *(50000, None)* dadas las especificaciones en la [Documentación de keras imdb](https://keras.io/datasets/), además estas podrán ser *\"buenas\"* o *\"malas\"* lo que nos indice a pensar que será un comportamiento binario el número de clases. "
   ]
  },
  {
   "cell_type": "code",
   "execution_count": 5,
   "metadata": {},
   "outputs": [
    {
     "name": "stdout",
     "output_type": "stream",
     "text": [
      "Training data:\n",
      "(50000,) \n",
      "(50000,)\n",
      "\n",
      "Clases:\n",
      "[0 1]\n",
      "\n",
      "Review lenght: \n"
     ]
    },
    {
     "data": {
      "image/png": "[encoded data removed]",
      "text/plain": [
       "<matplotlib.figure.Figure at 0xa3dae30>"
      ]
     },
     "metadata": {},
     "output_type": "display_data"
    }
   ],
   "source": [
    "print \"Training data:\\n\", X.shape, \"\\n\", y.shape\n",
    "\n",
    "print \"\\nClases:\\n\", np.unique(y)\n",
    "\n",
    "print \"\\nReview lenght: \"\n",
    "result = map(len, X)\n",
    "plt.boxplot(result)\n",
    "plt.show()"
   ]
  },
  {
   "cell_type": "markdown",
   "metadata": {},
   "source": [
    "Podemos notar la alta concentración en comentarios con menos de 500 palabras, teniendo una media de *234.75892* palabras y una desviación estandar de *172.91149*. (Ambos datos obtenidos a través de **np.mean** y **np.std**). Ahora bien para analizar las palabras aprovechares la indexación que viene en este dataset. Se muestran algunos gráficos que corresponden a los datos obtenidos mediante **np.unique(ds, return_counts=True)**. Tomando en cuenta que las cantidades de palabras en estos ejemplos son las siguiente:"
   ]
  },
  {
   "cell_type": "code",
   "execution_count": 7,
   "metadata": {},
   "outputs": [
    {
     "name": "stdout",
     "output_type": "stream",
     "text": [
      "\n",
      "Cantidad de palabras distintas: 88585\n",
      "\n",
      "Cantidad de palabras totales: 11737946\n"
     ]
    }
   ],
   "source": [
    "print \"\\nCantidad de palabras distintas:\", len(np.unique(np.hstack(X)))\n",
    "print \"\\nCantidad de palabras totales:\", len(np.hstack(X))"
   ]
  },
  {
   "cell_type": "markdown",
   "metadata": {},
   "source": [
    "Nota: *Todos los gráficos a continuación fueron creados mediante el script **frecuencia.py** de los archivos de **scripts** *.\n",
    "\n",
    "<img src=\"images/fig1.png\" style=\"width: 500px;\" name=\"Grafico 1\"/>\n",
    "<center>\n",
    "Gráfico 1: AxisY Frecuencia vs AxisX Indice de palabra\n",
    "</center>\n",
    "\n",
    "Dentro de todo, no se puede establecer un mayor criterio dada la alta cantidad de datos, lo que si podemos notar es que se produce una especia de linea convergente hacia valores menores con los índices mayores mientras que los índices menores obtienen una frecuencia muy por sobre el resto.\n",
    "\n",
    "<img src=\"images/zoom1.png\" style=\"width: 500px;\" name=\"Grafico 2\"/>\n",
    "<center>\n",
    "Gráfico 1.1: Zoom del gráfico 1\n",
    "</center>\n",
    "\n",
    "Si miramos el mismo gráficos pero un poco más cercano a los valores de índice entre *1-1500*, se puede aprecia la curva mencionada que tiene una suerte de $ \\frac{1}{x} $. Esto nos lleva a que se produzca una eventual **ley de Zipf**. [(Ver más)](https://es.wikipedia.org/wiki/Ley_de_Zipf) Esta ley menciona que la distribución del lenguaje puede aproximarse a\n",
    "\n",
    "\\begin{equation}\n",
    "P_n  \\to  \\frac{1}{n^a}\n",
    "\\end{equation}\n",
    "\n",
    "donde $P_n$ es la frecuencia de la n-ésima palabra más frecuente y $a$ es un número real positivo, en general ligeramente superior a 1. Un gráfico en representación logarítmica de la ley es el siguiente:\n",
    "\n",
    "<img src=\"https://upload.wikimedia.org/wikipedia/commons/d/da/Zipf_30wiki_es_labels.png\" style=\"width: 500px;\" name=\"Grafico 3\"/>\n",
    "<center>\n",
    "Imagen 1: Ley de Zipf\n",
    "</center>\n",
    "\n",
    "Como nuestra distribución presentaba estas caracteristicas quisimos gráficar nuestros datos de manera logarítmica obteniendo:\n",
    "\n",
    "<img src=\"images/log1.png\" style=\"width: 500px;\" name=\"Grafico 4\"/>\n",
    "<center>\n",
    "Gráfico 1.2: Representación logarítmica del gráfico 1\n",
    "</center>\n",
    "\n",
    "Sin lugar a dudas, el gráfico presenta características abrumadores, con un pick inicial y una alta densidad al final, pero dejando estos conceptos de lado y analizando la base del gráfico podemos notar que si se aprecia la curva esperable.\n",
    "\n",
    "*Ahora bien, ¿cómo cambian estas características al separar los textos de acuerdo a sus clases?*\n",
    "\n",
    "Lo que se esperaría en este análisis es que no debiese cambiar, debido a que la Ley de Zipf habla sobre una distribución del lenguaje más que de las palabras especificas que pueden conllevar un sentimiento por sobre otro. **Nota** nuevamente los gráficos fueron obtenidos a través del script *frecuencia.py*.\n",
    "\n",
    "<img src=\"images/fig2.png\" style=\"width: 500px;\" name=\"Grafico 5\"/>\n",
    "<center>\n",
    "Gráfico 2: Representación de los datos separados por clase\n",
    "</center>\n",
    "\n",
    "<img src=\"images/zoom4.png\" style=\"width: 500px;\" name=\"Grafico 6\"/>\n",
    "<center>\n",
    "Gráfico 2.1: Zoom del gráfico 2\n",
    "</center>\n",
    "\n",
    "<img src=\"images/log2.png\" style=\"width: 500px;\" name=\"Grafico 7\"/>\n",
    "<center>\n",
    "Gráfico 2.2: Representación logarítmica del gráfico 2\n",
    "</center>\n",
    "\n",
    "Tal como se esperaba, los resultados fueron prácticamente los mismos. La única conclusión feaciente que podemos realizar luego de hacer esta comparativa es que las palabras indexadas como 0, que equivalen a las palabras desconocidas, están relacionadas a comentarios negativos.\n",
    "\n",
    "---------------------------\n",
    "\n",
    "### Carga de datos acotada\n",
    "\n",
    "Dado que la carga de datos se basa en un criterio de *most used words*, basta con cargar una cantidad de datos más acotada para que se cumpla el requerimiento."
   ]
  },
  {
   "cell_type": "code",
   "execution_count": 13,
   "metadata": {},
   "outputs": [],
   "source": [
    "(X_train2, y_train2), (X_test2, y_test2) = imdb.load_data(path=\"B:\\Programas\\Google Drive\\USM\\Redes Neuronales\\Tarea 3\\datasets\\imdb.npz\", num_words=3000, seed=15)\n",
    "\n",
    "X_train2 = sequence.pad_sequences(X_train, maxlen=500)\n",
    "X_test2 = sequence.pad_sequences(X_test, maxlen=500)"
   ]
  },
  {
   "cell_type": "markdown",
   "metadata": {},
   "source": [
    "Dado que se están utilizando una cantidad de palabras más acotadas, y que los comentarios fueron truncados a un máximo de 500 palabras, existirán algunas que no tengan estas caracteristicas, y como mencionamos en un momentos las palabras con índice 0, son las irreconocibles, por lo tanto cuando tengamos un modelo entrenable este asumirá comentarios del mismo largo lo que facilitará el modelaje de la red a entrenar."
   ]
  },
  {
   "cell_type": "code",
   "execution_count": null,
   "metadata": {
    "collapsed": true
   },
   "outputs": [],
   "source": []
  }
 ],
 "metadata": {
  "kernelspec": {
   "display_name": "Python 2",
   "language": "python",
   "name": "python2"
  },
  "language_info": {
   "codemirror_mode": {
    "name": "ipython",
    "version": 2
   },
   "file_extension": ".py",
   "mimetype": "text/x-python",
   "name": "python",
   "nbconvert_exporter": "python",
   "pygments_lexer": "ipython2",
   "version": "2.7.13"
  }
 },
 "nbformat": 4,
 "nbformat_minor": 2
}
